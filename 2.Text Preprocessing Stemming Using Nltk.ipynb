{
 "cells": [
  {
   "cell_type": "markdown",
   "id": "e3043cfe",
   "metadata": {},
   "source": [
    "## Stemming\n",
    "\n",
    "Stemming is the process of reducing a word to its word stem that affixes to suffixes and prefixes or the roots of words known as a lemma . Stemming is important in natural language understanding and Nlp"
   ]
  },
  {
   "cell_type": "code",
   "execution_count": 1,
   "id": "0899cac6",
   "metadata": {},
   "outputs": [],
   "source": [
    "## Classification Problem\n",
    "## comments of product is a positive review or negative review\n",
    "## Reviews----->[eating , eat, eaten]--->eat\n",
    "\n",
    "words=[\"eat\",\"eating\",\"eaten\",\"eats\",\"easily\",\"fairly\",\"fairness\"]"
   ]
  },
  {
   "cell_type": "markdown",
   "id": "f46fdf84",
   "metadata": {},
   "source": [
    "## porter stemmer"
   ]
  },
  {
   "cell_type": "code",
   "execution_count": 2,
   "id": "25697cba",
   "metadata": {},
   "outputs": [],
   "source": [
    "from nltk.stem import PorterStemmer\n"
   ]
  },
  {
   "cell_type": "code",
   "execution_count": 3,
   "id": "7e477ffb",
   "metadata": {},
   "outputs": [],
   "source": [
    "stemming=PorterStemmer()"
   ]
  },
  {
   "cell_type": "code",
   "execution_count": 4,
   "id": "26553c54",
   "metadata": {},
   "outputs": [
    {
     "name": "stdout",
     "output_type": "stream",
     "text": [
      "eat------>eat\n",
      "eating------>eat\n",
      "eaten------>eaten\n",
      "eats------>eat\n",
      "easily------>easili\n",
      "fairly------>fairli\n",
      "fairness------>fair\n"
     ]
    }
   ],
   "source": [
    "for word in words:\n",
    "    print(word+\"------>\"+stemming.stem(word))"
   ]
  },
  {
   "cell_type": "markdown",
   "id": "951dd232",
   "metadata": {},
   "source": [
    "The major disadvantage of this is that for some of the words like in above result there may be change in meaning. we won't get exact meaning"
   ]
  },
  {
   "cell_type": "code",
   "execution_count": 5,
   "id": "cb87d37a",
   "metadata": {},
   "outputs": [
    {
     "data": {
      "text/plain": [
       "'congratul'"
      ]
     },
     "execution_count": 5,
     "metadata": {},
     "output_type": "execute_result"
    }
   ],
   "source": [
    "stemming.stem(\"congratulation\")"
   ]
  },
  {
   "cell_type": "markdown",
   "id": "d43ec728",
   "metadata": {},
   "source": [
    "### RegexpStemmer class\n",
    "\n",
    "NLTK has RegexpStemmer class with the help of which we easily implement Regular Expression Stemmer algorithms.It basically Takes a single regular expression and removes any prefix or suffix that matches the expression.Let us see an Example"
   ]
  },
  {
   "cell_type": "code",
   "execution_count": 8,
   "id": "c016ce09",
   "metadata": {},
   "outputs": [],
   "source": [
    "from nltk.stem import RegexpStemmer\n",
    "reg_stemmer=RegexpStemmer(\"ing$|s$|e$|able$\",min=4)"
   ]
  },
  {
   "cell_type": "code",
   "execution_count": 9,
   "id": "937b36fb",
   "metadata": {},
   "outputs": [
    {
     "data": {
      "text/plain": [
       "'eat'"
      ]
     },
     "execution_count": 9,
     "metadata": {},
     "output_type": "execute_result"
    }
   ],
   "source": [
    "reg_stemmer.stem(\"eating\")"
   ]
  },
  {
   "cell_type": "code",
   "execution_count": null,
   "id": "0d7d85c4",
   "metadata": {},
   "outputs": [],
   "source": []
  },
  {
   "cell_type": "markdown",
   "id": "d17acd65",
   "metadata": {},
   "source": [
    "### Snowball Stemmer"
   ]
  },
  {
   "cell_type": "code",
   "execution_count": 10,
   "id": "fe4319b2",
   "metadata": {},
   "outputs": [],
   "source": [
    "from nltk.stem import SnowballStemmer"
   ]
  },
  {
   "cell_type": "code",
   "execution_count": 11,
   "id": "09a3240a",
   "metadata": {},
   "outputs": [],
   "source": [
    "snowballstemmer=SnowballStemmer(\"english\")"
   ]
  },
  {
   "cell_type": "code",
   "execution_count": 12,
   "id": "4ffe581a",
   "metadata": {},
   "outputs": [
    {
     "name": "stdout",
     "output_type": "stream",
     "text": [
      "eat------>eat\n",
      "eating------>eat\n",
      "eaten------>eaten\n",
      "eats------>eat\n",
      "easily------>easili\n",
      "fairly------>fair\n",
      "fairness------>fair\n"
     ]
    }
   ],
   "source": [
    "for word in words:\n",
    "    print(word+\"------>\"+snowballstemmer.stem(word))"
   ]
  },
  {
   "cell_type": "code",
   "execution_count": 13,
   "id": "ade5bfe0",
   "metadata": {},
   "outputs": [
    {
     "data": {
      "text/plain": [
       "('fairli', 'supportingli')"
      ]
     },
     "execution_count": 13,
     "metadata": {},
     "output_type": "execute_result"
    }
   ],
   "source": [
    "stemming.stem(\"fairly\"),stemming.stem(\"supportingly\")"
   ]
  },
  {
   "cell_type": "code",
   "execution_count": 14,
   "id": "547f1a7d",
   "metadata": {},
   "outputs": [
    {
     "data": {
      "text/plain": [
       "('fair', 'support')"
      ]
     },
     "execution_count": 14,
     "metadata": {},
     "output_type": "execute_result"
    }
   ],
   "source": [
    "snowballstemmer.stem(\"fairly\"),snowballstemmer.stem(\"supportingly\")"
   ]
  },
  {
   "cell_type": "markdown",
   "id": "ff68fe1e",
   "metadata": {},
   "source": [
    "##### the disadvantages of this stemming is that for some of the words the form of words is changing to solve that we use lemmitizatiion"
   ]
  },
  {
   "cell_type": "code",
   "execution_count": null,
   "id": "23d259da",
   "metadata": {},
   "outputs": [],
   "source": []
  }
 ],
 "metadata": {
  "kernelspec": {
   "display_name": "venv",
   "language": "python",
   "name": "venv"
  },
  "language_info": {
   "codemirror_mode": {
    "name": "ipython",
    "version": 3
   },
   "file_extension": ".py",
   "mimetype": "text/x-python",
   "name": "python",
   "nbconvert_exporter": "python",
   "pygments_lexer": "ipython3",
   "version": "3.11.13"
  }
 },
 "nbformat": 4,
 "nbformat_minor": 5
}
