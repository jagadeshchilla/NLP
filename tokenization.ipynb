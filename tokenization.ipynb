{
 "cells": [
  {
   "cell_type": "code",
   "execution_count": 1,
   "id": "796ef428",
   "metadata": {},
   "outputs": [
    {
     "name": "stdout",
     "output_type": "stream",
     "text": [
      "Requirement already satisfied: nltk in c:\\users\\welcome\\anaconda3\\envs\\venv\\lib\\site-packages (3.9.1)\n",
      "Requirement already satisfied: click in c:\\users\\welcome\\anaconda3\\envs\\venv\\lib\\site-packages (from nltk) (8.2.1)\n",
      "Requirement already satisfied: joblib in c:\\users\\welcome\\anaconda3\\envs\\venv\\lib\\site-packages (from nltk) (1.5.2)\n",
      "Requirement already satisfied: regex>=2021.8.3 in c:\\users\\welcome\\anaconda3\\envs\\venv\\lib\\site-packages (from nltk) (2025.7.34)\n",
      "Requirement already satisfied: tqdm in c:\\users\\welcome\\anaconda3\\envs\\venv\\lib\\site-packages (from nltk) (4.67.1)\n",
      "Requirement already satisfied: colorama in c:\\users\\welcome\\anaconda3\\envs\\venv\\lib\\site-packages (from click->nltk) (0.4.6)\n"
     ]
    }
   ],
   "source": [
    "!pip install nltk"
   ]
  },
  {
   "cell_type": "code",
   "execution_count": 2,
   "id": "a260445e",
   "metadata": {},
   "outputs": [],
   "source": [
    "corpus=\"\"\"HelLo Welcome, this is self study of nlp. \n",
    "Nlp is very interesting. \n",
    "Nlp includes tokenization, stemming, lemmatization etc.\"\"\""
   ]
  },
  {
   "cell_type": "code",
   "execution_count": 3,
   "id": "0965edc0",
   "metadata": {},
   "outputs": [
    {
     "name": "stdout",
     "output_type": "stream",
     "text": [
      "HelLo Welcome, this is self study of nlp. \n",
      "Nlp is very interesting. \n",
      "Nlp includes tokenization, stemming, lemmatization etc.\n"
     ]
    }
   ],
   "source": [
    "print(corpus)"
   ]
  },
  {
   "cell_type": "code",
   "execution_count": 6,
   "id": "c8436860",
   "metadata": {},
   "outputs": [
    {
     "name": "stderr",
     "output_type": "stream",
     "text": [
      "[nltk_data] Downloading package punkt to\n",
      "[nltk_data]     C:\\Users\\Welcome\\AppData\\Roaming\\nltk_data...\n",
      "[nltk_data]   Package punkt is already up-to-date!\n",
      "[nltk_data] Downloading package punkt_tab to\n",
      "[nltk_data]     C:\\Users\\Welcome\\AppData\\Roaming\\nltk_data...\n",
      "[nltk_data]   Unzipping tokenizers\\punkt_tab.zip.\n"
     ]
    }
   ],
   "source": [
    "### Tokenization\n",
    "#### Sentence ---> Paragraph\n",
    "import nltk\n",
    "nltk.download(\"punkt\")       # download punkt tokenizer\n",
    "nltk.download(\"punkt_tab\")   # new addition required in some NLTK versions\n",
    "\n",
    "from nltk.tokenize import sent_tokenize\n"
   ]
  },
  {
   "cell_type": "markdown",
   "id": "4ad9d941",
   "metadata": {},
   "source": [
    "`sent_tokenize` is a libary that convert paragraph into sentce"
   ]
  },
  {
   "cell_type": "code",
   "execution_count": 8,
   "id": "2b372101",
   "metadata": {},
   "outputs": [],
   "source": [
    "sentences=sent_tokenize(corpus)"
   ]
  },
  {
   "cell_type": "code",
   "execution_count": 9,
   "id": "5cae9ee4",
   "metadata": {},
   "outputs": [
    {
     "data": {
      "text/plain": [
       "list"
      ]
     },
     "execution_count": 9,
     "metadata": {},
     "output_type": "execute_result"
    }
   ],
   "source": [
    "type(sentences)  # it will convert paragraph into list of sentences"
   ]
  },
  {
   "cell_type": "code",
   "execution_count": 10,
   "id": "6eea96f7",
   "metadata": {},
   "outputs": [
    {
     "name": "stdout",
     "output_type": "stream",
     "text": [
      "HelLo Welcome, this is self study of nlp.\n",
      "Nlp is very interesting.\n",
      "Nlp includes tokenization, stemming, lemmatization etc.\n"
     ]
    }
   ],
   "source": [
    "for sentence in sentences:\n",
    "    print(sentence)"
   ]
  },
  {
   "cell_type": "code",
   "execution_count": null,
   "id": "c03e0924",
   "metadata": {},
   "outputs": [],
   "source": [
    "### paragraph ---> word\n",
    "### sentence ---> word\n",
    "from nltk.tokenize import word_tokenize\n"
   ]
  },
  {
   "cell_type": "code",
   "execution_count": 16,
   "id": "f9b0115e",
   "metadata": {},
   "outputs": [],
   "source": [
    "words=word_tokenize(corpus)"
   ]
  },
  {
   "cell_type": "code",
   "execution_count": 17,
   "id": "41169be2",
   "metadata": {},
   "outputs": [
    {
     "name": "stdout",
     "output_type": "stream",
     "text": [
      "HelLo\n",
      "Welcome\n",
      ",\n",
      "this\n",
      "is\n",
      "self\n",
      "study\n",
      "of\n",
      "nlp\n",
      ".\n",
      "Nlp\n",
      "is\n",
      "very\n",
      "interesting\n",
      ".\n",
      "Nlp\n",
      "includes\n",
      "tokenization\n",
      ",\n",
      "stemming\n",
      ",\n",
      "lemmatization\n",
      "etc\n",
      ".\n"
     ]
    }
   ],
   "source": [
    "for word in words:\n",
    "    print(word)"
   ]
  },
  {
   "cell_type": "code",
   "execution_count": 18,
   "id": "8d9f1299",
   "metadata": {},
   "outputs": [],
   "source": [
    "from nltk.tokenize import wordpunct_tokenize"
   ]
  },
  {
   "cell_type": "code",
   "execution_count": 19,
   "id": "ce1e11eb",
   "metadata": {},
   "outputs": [
    {
     "data": {
      "text/plain": [
       "['HelLo',\n",
       " 'Welcome',\n",
       " ',',\n",
       " 'this',\n",
       " 'is',\n",
       " 'self',\n",
       " 'study',\n",
       " 'of',\n",
       " 'nlp',\n",
       " '.',\n",
       " 'Nlp',\n",
       " 'is',\n",
       " 'very',\n",
       " 'interesting',\n",
       " '.',\n",
       " 'Nlp',\n",
       " 'includes',\n",
       " 'tokenization',\n",
       " ',',\n",
       " 'stemming',\n",
       " ',',\n",
       " 'lemmatization',\n",
       " 'etc',\n",
       " '.']"
      ]
     },
     "execution_count": 19,
     "metadata": {},
     "output_type": "execute_result"
    }
   ],
   "source": [
    "wordpunct_tokenize(corpus)"
   ]
  },
  {
   "cell_type": "code",
   "execution_count": 20,
   "id": "c1af8fff",
   "metadata": {},
   "outputs": [],
   "source": [
    "from nltk.tokenize import TreebankWordTokenizer\n",
    "tokenizer=TreebankWordTokenizer()"
   ]
  },
  {
   "cell_type": "code",
   "execution_count": 21,
   "id": "3573a351",
   "metadata": {},
   "outputs": [
    {
     "data": {
      "text/plain": [
       "['HelLo',\n",
       " 'Welcome',\n",
       " ',',\n",
       " 'this',\n",
       " 'is',\n",
       " 'self',\n",
       " 'study',\n",
       " 'of',\n",
       " 'nlp.',\n",
       " 'Nlp',\n",
       " 'is',\n",
       " 'very',\n",
       " 'interesting.',\n",
       " 'Nlp',\n",
       " 'includes',\n",
       " 'tokenization',\n",
       " ',',\n",
       " 'stemming',\n",
       " ',',\n",
       " 'lemmatization',\n",
       " 'etc',\n",
       " '.']"
      ]
     },
     "execution_count": 21,
     "metadata": {},
     "output_type": "execute_result"
    }
   ],
   "source": [
    "tokenizer.tokenize(corpus)"
   ]
  },
  {
   "cell_type": "markdown",
   "id": "12566ed7",
   "metadata": {},
   "source": [
    "#### what do you observe between wordpunct_tokenize & TreebankWordTokenizer ??\n",
    "- for  `wordpuct_tokenize` the punctions like `.` is treated seperate word/token \n",
    "- for `TreebankWordTokenizer` the punction is included in the word but for the the last word punction is treated as seperate word \n",
    "as we can check in above results"
   ]
  },
  {
   "cell_type": "code",
   "execution_count": null,
   "id": "5990b548",
   "metadata": {},
   "outputs": [],
   "source": [
    "\n"
   ]
  }
 ],
 "metadata": {
  "kernelspec": {
   "display_name": "venv",
   "language": "python",
   "name": "venv"
  },
  "language_info": {
   "codemirror_mode": {
    "name": "ipython",
    "version": 3
   },
   "file_extension": ".py",
   "mimetype": "text/x-python",
   "name": "python",
   "nbconvert_exporter": "python",
   "pygments_lexer": "ipython3",
   "version": "3.11.13"
  }
 },
 "nbformat": 4,
 "nbformat_minor": 5
}
